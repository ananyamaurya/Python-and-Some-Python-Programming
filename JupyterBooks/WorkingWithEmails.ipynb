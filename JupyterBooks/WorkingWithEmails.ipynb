{
 "cells": [
  {
   "cell_type": "code",
   "execution_count": 41,
   "metadata": {
    "collapsed": true
   },
   "outputs": [
    {
     "name": "stdout",
     "output_type": "stream",
     "text": [
      "[WinError 10061] No connection could be made because the target machine actively refused it\n"
     ]
    }
   ],
   "source": [
    "import smtplib, ssl\n",
    "from email.message import EmailMessage\n",
    "smtp_server = \"smtp.mail.yahoo.com\"\n",
    "port = 587  # For starttls\n",
    "sender_email = \"ananya2531997@yahoo.com\"\n",
    "password = \"Andy@2531997\"\n",
    "\n",
    "# Create a secure SSL context\n",
    "context = ssl.create_default_context()\n",
    "email =  EmailMessage()\n",
    "email['from'] = 'ananya2531997@yahoo.com'\n",
    "email['to'] = 'ananya.s.library@gmail.com'\n",
    "email['subject'] = 'YOU JUST WON A MILLION DOLLARS'\n",
    "\n",
    "email.set_content('I am a Lottery Agent.')\n",
    "\n",
    "# Try to log in to server and send email\n",
    "try:\n",
    "    server = smtplib.SMTP('smtp.gmail.com', 587)\n",
    "    \n",
    "    server.starttls() # Secure the connection\n",
    "    server.ehlo() # Can be omitted\n",
    "    server.connect()# Can be omitted\n",
    "    server.login(sender_email, password)\n",
    "    smtp.sendmail(sender_email,'ananya.s.library@gmail.com','I am a Lottery Agent.')\n",
    "    print('Message Sent')\n",
    "except Exception as e:\n",
    "    # Print any error messages to stdout\n",
    "    print(e)\n",
    "finally:\n",
    "    server.quit() "
   ]
  },
  {
   "cell_type": "code",
   "execution_count": 46,
   "metadata": {},
   "outputs": [
    {
     "name": "stdout",
     "output_type": "stream",
     "text": [
      "all good boss!\n"
     ]
    }
   ],
   "source": [
    "import smtplib\n",
    "from email.message import EmailMessage\n",
    "from string import Template\n",
    "from pathlib import Path \n",
    "\n",
    "html = Template(Path('index.html').read_text())\n",
    "email = EmailMessage()\n",
    "email['from'] = 'Ananya Maurya'\n",
    "email['to'] = 'amolikamaurya@gmail.com'\n",
    "email['subject'] = 'You won 1,000,000,000 dollars!'\n",
    "\n",
    "email.set_content(html.substitute({'name': 'TinTin'}), 'html')\n",
    "\n",
    "with smtplib.SMTP(host='smtp.gmail.com', port=587) as smtp:\n",
    "  smtp.ehlo()\n",
    "  smtp.starttls()\n",
    "  smtp.login('ananya2531997@gmail.com', 'Andy@2531997')\n",
    "  smtp.send_message(email)\n",
    "  print('all good boss!')"
   ]
  },
  {
   "cell_type": "code",
   "execution_count": null,
   "metadata": {
    "collapsed": true
   },
   "outputs": [],
   "source": []
  }
 ],
 "metadata": {
  "kernelspec": {
   "display_name": "Python 3",
   "language": "python",
   "name": "python3"
  },
  "language_info": {
   "codemirror_mode": {
    "name": "ipython",
    "version": 3
   },
   "file_extension": ".py",
   "mimetype": "text/x-python",
   "name": "python",
   "nbconvert_exporter": "python",
   "pygments_lexer": "ipython3",
   "version": "3.7.7"
  }
 },
 "nbformat": 4,
 "nbformat_minor": 4
}
