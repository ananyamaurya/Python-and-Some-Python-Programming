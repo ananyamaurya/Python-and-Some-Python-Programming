{
 "cells": [
  {
   "cell_type": "code",
   "execution_count": 1,
   "metadata": {},
   "outputs": [
    {
     "name": "stdout",
     "output_type": "stream",
     "text": [
      "<PIL.JpegImagePlugin.JpegImageFile image mode=RGB size=640x640 at 0x1CC7DB59C48>\n"
     ]
    }
   ],
   "source": [
    "from PIL import Image\n",
    "\n",
    "img = Image.open('./Pokedex/pikachu.jpg')\n",
    "print(img)"
   ]
  },
  {
   "cell_type": "code",
   "execution_count": 2,
   "metadata": {},
   "outputs": [
    {
     "name": "stdout",
     "output_type": "stream",
     "text": [
      "JPEG\n"
     ]
    }
   ],
   "source": [
    "from PIL import Image\n",
    "\n",
    "img = Image.open('./Pokedex/pikachu.jpg')\n",
    "print(img.format)"
   ]
  },
  {
   "cell_type": "code",
   "execution_count": 3,
   "metadata": {},
   "outputs": [
    {
     "name": "stdout",
     "output_type": "stream",
     "text": [
      "(640, 640)\n"
     ]
    }
   ],
   "source": [
    "from PIL import Image\n",
    "\n",
    "img = Image.open('./Pokedex/pikachu.jpg')\n",
    "print(img.size)"
   ]
  },
  {
   "cell_type": "code",
   "execution_count": 4,
   "metadata": {},
   "outputs": [
    {
     "name": "stdout",
     "output_type": "stream",
     "text": [
      "RGB\n"
     ]
    }
   ],
   "source": [
    "from PIL import Image\n",
    "\n",
    "img = Image.open('./Pokedex/pikachu.jpg')\n",
    "print(img.mode)"
   ]
  },
  {
   "cell_type": "code",
   "execution_count": 5,
   "metadata": {},
   "outputs": [
    {
     "name": "stdout",
     "output_type": "stream",
     "text": [
      "['_Image__transformer', '__array_interface__', '__class__', '__copy__', '__delattr__', '__dict__', '__dir__', '__doc__', '__enter__', '__eq__', '__exit__', '__format__', '__ge__', '__getattribute__', '__getstate__', '__gt__', '__hash__', '__init__', '__init_subclass__', '__le__', '__lt__', '__module__', '__ne__', '__new__', '__reduce__', '__reduce_ex__', '__repr__', '__setattr__', '__setstate__', '__sizeof__', '__str__', '__subclasshook__', '__weakref__', '_close_exclusive_fp_after_loading', '_copy', '_crop', '_dump', '_ensure_mutable', '_exclusive_fp', '_exif', '_expand', '_get_safe_box', '_getexif', '_getmp', '_min_frame', '_new', '_open', '_repr_png_', '_seek_check', '_size', 'alpha_composite', 'app', 'applist', 'bits', 'category', 'close', 'convert', 'copy', 'crop', 'custom_mimetype', 'decoderconfig', 'decodermaxblock', 'draft', 'effect_spread', 'entropy', 'filename', 'filter', 'format', 'format_description', 'fp', 'frombytes', 'fromstring', 'get_format_mimetype', 'getbands', 'getbbox', 'getchannel', 'getcolors', 'getdata', 'getexif', 'getextrema', 'getim', 'getpalette', 'getpixel', 'getprojection', 'height', 'histogram', 'huffman_ac', 'huffman_dc', 'icclist', 'im', 'info', 'layer', 'layers', 'load', 'load_djpeg', 'load_end', 'load_prepare', 'load_read', 'mode', 'offset', 'palette', 'paste', 'point', 'putalpha', 'putdata', 'putpalette', 'putpixel', 'pyaccess', 'quantization', 'quantize', 'readonly', 'reduce', 'remap_palette', 'resize', 'rotate', 'save', 'seek', 'show', 'size', 'split', 'tell', 'thumbnail', 'tile', 'tobitmap', 'tobytes', 'toqimage', 'toqpixmap', 'tostring', 'transform', 'transpose', 'verify', 'width']\n"
     ]
    }
   ],
   "source": [
    "from PIL import Image\n",
    "\n",
    "img = Image.open('./Pokedex/pikachu.jpg')\n",
    "print(dir(img))"
   ]
  },
  {
   "cell_type": "code",
   "execution_count": 6,
   "metadata": {},
   "outputs": [],
   "source": [
    "from PIL import Image, ImageFilter\n",
    "\n",
    "img = Image.open('./Pokedex/pikachu.jpg')\n",
    "filter_img = img.filter(ImageFilter.BLUR)\n",
    "filter_img.save(\"blur.png\",'png')"
   ]
  },
  {
   "cell_type": "code",
   "execution_count": 7,
   "metadata": {},
   "outputs": [],
   "source": [
    "from PIL import Image, ImageFilter\n",
    "\n",
    "img = Image.open('./Pokedex/pikachu.jpg')\n",
    "filter_img = img.filter(ImageFilter.SMOOTH)\n",
    "filter_img.save(\"pikasmooth.png\",'png')"
   ]
  },
  {
   "cell_type": "code",
   "execution_count": 8,
   "metadata": {},
   "outputs": [],
   "source": [
    "from PIL import Image, ImageFilter\n",
    "\n",
    "img = Image.open('./Pokedex/pikachu.jpg')\n",
    "filter_img = img.filter(ImageFilter.SHARPEN)\n",
    "filter_img.save(\"pikasharp.png\",'png')"
   ]
  },
  {
   "cell_type": "code",
   "execution_count": 9,
   "metadata": {},
   "outputs": [],
   "source": [
    "from PIL import Image, ImageFilter\n",
    "\n",
    "img = Image.open('./Pokedex/pikachu.jpg')\n",
    "#convert L makes the image greyscale\n",
    "filter_img = img.convert('L')\n",
    "filter_img.save(\"pikagrey.png\",'png')"
   ]
  },
  {
   "cell_type": "code",
   "execution_count": 1,
   "metadata": {},
   "outputs": [],
   "source": [
    "from PIL import Image, ImageFilter\n",
    "\n",
    "\n",
    "img = Image.open('./Pokedex/pikachu.jpg')\n",
    "\n",
    "#convert L makes the image greyscale\n",
    "filter_img = img.convert('L')\n",
    "\n",
    "#rotate 90 = rotate image by 90 degrees\n",
    "rot = filter_img.rotate(90)\n",
    "rot.save(\"pikagrey90.png\",'png')\n"
   ]
  },
  {
   "cell_type": "code",
   "execution_count": 2,
   "metadata": {},
   "outputs": [],
   "source": [
    "from PIL import Image, ImageFilter\n",
    "\n",
    "img = Image.open('./Pokedex/pikachu.jpg')\n",
    "#convert L makes the image greyscale\n",
    "filter_img = img.convert('L')\n",
    "resize = filter_img.resize((300,300))\n",
    "resize.save(\"pikagreyresize.png\",'png')"
   ]
  },
  {
   "cell_type": "code",
   "execution_count": 1,
   "metadata": {},
   "outputs": [
    {
     "name": "stdout",
     "output_type": "stream",
     "text": [
      "(6000, 4000)\n"
     ]
    }
   ],
   "source": [
    "from PIL import Image, ImageFilter\n",
    "\n",
    "img = Image.open('./Pokedex/jeremy.jpg')\n",
    "print(img.size)"
   ]
  },
  {
   "cell_type": "code",
   "execution_count": 2,
   "metadata": {},
   "outputs": [],
   "source": [
    "from PIL import Image, ImageFilter\n",
    "\n",
    "img = Image.open('./Pokedex/jeremy.jpg')\n",
    "img.thumbnail((400,400))\n",
    "img.save('thumbnail.jpg')"
   ]
  },
  {
   "cell_type": "code",
   "execution_count": 4,
   "metadata": {},
   "outputs": [],
   "source": [
    "'''\n",
    "Convert Images from a Directory to png and saves them to new directory\n",
    "Should be run through CommandLine\n",
    "\n",
    "Command Line Query::::\n",
    "\n",
    "  python jpgtopng.py ImageDirectoryName ConverterImageDirectoryName\n",
    "  \n",
    "\n",
    "'''\n",
    "import sys\n",
    "import os\n",
    "\n",
    "from PIL import Image,ImageFilter\n",
    "\n",
    "\n",
    "sys.argv\n",
    "\n",
    "image_folder = 'Pokedex'\n",
    "new_folder = 'PokedexNew'\n",
    "li = []\n",
    "li = os.listdir('./'+image_folder)\n",
    "\n",
    "for i in li:\n",
    "    if '.jpg' in i:\n",
    "        img = Image.open(f'./{image_folder}/{i}')\n",
    "        img.thumbnail((200,200))\n",
    "        cleanpath = os.path.splitext(i)[0]\n",
    "        if not os.path.exists(new_folder):\n",
    "            try:\n",
    "                os.makedirs(new_folder)\n",
    "            except OSError as e:\n",
    "                if e.errno != errno.EEXIST:\n",
    "                    raise\n",
    "        img.save(f'./{new_folder}/{cleanpath}.png','png')\n",
    "\n"
   ]
  },
  {
   "cell_type": "code",
   "execution_count": null,
   "metadata": {},
   "outputs": [],
   "source": []
  }
 ],
 "metadata": {
  "kernelspec": {
   "display_name": "Python 3",
   "language": "python",
   "name": "python3"
  },
  "language_info": {
   "codemirror_mode": {
    "name": "ipython",
    "version": 3
   },
   "file_extension": ".py",
   "mimetype": "text/x-python",
   "name": "python",
   "nbconvert_exporter": "python",
   "pygments_lexer": "ipython3",
   "version": "3.7.7"
  }
 },
 "nbformat": 4,
 "nbformat_minor": 4
}
