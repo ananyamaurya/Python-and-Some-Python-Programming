{
 "cells": [
  {
   "cell_type": "code",
   "execution_count": 1,
   "metadata": {},
   "outputs": [],
   "source": [
    "from OpenGL.GL import *\n",
    "from OpenGL.GLUT import *\n",
    "from OpenGL.GLU import *\n"
   ]
  },
  {
   "cell_type": "code",
   "execution_count": 2,
   "outputs": [],
   "source": [
    "w,h= 500,500\n",
    "def square():\n",
    "    glBegin(GL_QUADS)\n",
    "    glVertex2f(100, 100)\n",
    "    glVertex2f(200, 100)\n",
    "    glVertex2f(200, 200)\n",
    "    glVertex2f(100, 200)\n",
    "    glEnd()\n"
   ],
   "metadata": {
    "collapsed": false,
    "pycharm": {
     "name": "#%%\n"
    }
   }
  },
  {
   "cell_type": "code",
   "execution_count": 3,
   "metadata": {},
   "outputs": [],
   "source": [
    "def iterate():\n",
    "    glViewport(0, 0, 500, 500)\n",
    "    glMatrixMode(GL_PROJECTION)\n",
    "    glLoadIdentity()\n",
    "    glOrtho(0.0, 500, 0.0, 500, 0.0, 1.0)\n",
    "    glMatrixMode (GL_MODELVIEW)\n",
    "    glLoadIdentity()\n",
    "\n"
   ]
  },
  {
   "cell_type": "code",
   "execution_count": 4,
   "outputs": [],
   "source": [
    "def showScreen():\n",
    "    glClear(GL_COLOR_BUFFER_BIT | GL_DEPTH_BUFFER_BIT)\n",
    "    glLoadIdentity()\n",
    "    iterate()\n",
    "    glColor3f(1.0, 0.0, 3.0)\n",
    "    square()\n",
    "    glutSwapBuffers()\n",
    "\n",
    "\n"
   ],
   "metadata": {
    "collapsed": false,
    "pycharm": {
     "name": "#%%\n"
    }
   }
  },
  {
   "cell_type": "code",
   "execution_count": null,
   "outputs": [],
   "source": [
    "glutInit()\n",
    "glutInitDisplayMode(GLUT_RGBA)\n",
    "glutInitWindowSize(500, 500)\n",
    "glutInitWindowPosition(0, 0)\n",
    "wind = glutCreateWindow(\"OpenGL Coding Practice\")\n",
    "glutDisplayFunc(showScreen)\n",
    "glutIdleFunc(showScreen)\n",
    "glutMainLoop()\n",
    "\n"
   ],
   "metadata": {
    "collapsed": false,
    "pycharm": {
     "name": "#%%\n",
     "is_executing": true
    }
   }
  }
 ],
 "metadata": {
  "kernelspec": {
   "display_name": "Python 3",
   "language": "python",
   "name": "python3"
  },
  "language_info": {
   "codemirror_mode": {
    "name": "ipython",
    "version": 3
   },
   "file_extension": ".py",
   "mimetype": "text/x-python",
   "name": "python",
   "nbconvert_exporter": "python",
   "pygments_lexer": "ipython3",
   "version": "3.8.3"
  }
 },
 "nbformat": 4,
 "nbformat_minor": 4
}