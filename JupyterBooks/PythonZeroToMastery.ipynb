{
 "cells": [
  {
   "cell_type": "code",
   "execution_count": 1,
   "metadata": {},
   "outputs": [
    {
     "ename": "TypeError",
     "evalue": "__init__() missing 1 required positional argument: 'name'",
     "output_type": "error",
     "traceback": [
      "\u001b[1;31m---------------------------------------------------------------------------\u001b[0m",
      "\u001b[1;31mTypeError\u001b[0m                                 Traceback (most recent call last)",
      "\u001b[1;32m<ipython-input-1-4eb659f91eb6>\u001b[0m in \u001b[0;36m<module>\u001b[1;34m\u001b[0m\n\u001b[0;32m      7\u001b[0m         \u001b[0mprint\u001b[0m\u001b[1;33m(\u001b[0m\u001b[1;34m'Run! {self.name} RUN!'\u001b[0m\u001b[1;33m)\u001b[0m\u001b[1;33m\u001b[0m\u001b[1;33m\u001b[0m\u001b[0m\n\u001b[0;32m      8\u001b[0m \u001b[1;33m\u001b[0m\u001b[0m\n\u001b[1;32m----> 9\u001b[1;33m \u001b[0mplayer1\u001b[0m \u001b[1;33m=\u001b[0m \u001b[0mPlayerChar\u001b[0m\u001b[1;33m(\u001b[0m\u001b[1;33m)\u001b[0m\u001b[1;33m\u001b[0m\u001b[1;33m\u001b[0m\u001b[0m\n\u001b[0m\u001b[0;32m     10\u001b[0m \u001b[0mprint\u001b[0m\u001b[1;33m(\u001b[0m\u001b[0mplayer1\u001b[0m\u001b[1;33m.\u001b[0m\u001b[0mname\u001b[0m\u001b[1;33m)\u001b[0m\u001b[1;33m\u001b[0m\u001b[1;33m\u001b[0m\u001b[0m\n\u001b[0;32m     11\u001b[0m \u001b[0mplayer1\u001b[0m\u001b[1;33m.\u001b[0m\u001b[0mrun\u001b[0m\u001b[1;33m(\u001b[0m\u001b[1;33m)\u001b[0m\u001b[1;33m\u001b[0m\u001b[1;33m\u001b[0m\u001b[0m\n",
      "\u001b[1;31mTypeError\u001b[0m: __init__() missing 1 required positional argument: 'name'"
     ]
    }
   ],
   "source": [
    "class PlayerChar:\n",
    "    def __init__ (self,name):\n",
    "        self.name = name\n",
    "    \n",
    "    \n",
    "    def run (self):\n",
    "        print('Run! {self.name} RUN!')\n",
    "\n",
    "player1 = PlayerChar()        \n",
    "print(player1.name)\n",
    "player1.run()"
   ]
  },
  {
   "cell_type": "code",
   "execution_count": 2,
   "metadata": {},
   "outputs": [
    {
     "ename": "TypeError",
     "evalue": "__init__() missing 1 required positional argument: 'name'",
     "output_type": "error",
     "traceback": [
      "\u001b[1;31m---------------------------------------------------------------------------\u001b[0m",
      "\u001b[1;31mTypeError\u001b[0m                                 Traceback (most recent call last)",
      "\u001b[1;32m<ipython-input-2-1f4888befdf7>\u001b[0m in \u001b[0;36m<module>\u001b[1;34m\u001b[0m\n\u001b[0;32m      7\u001b[0m         \u001b[0mprint\u001b[0m\u001b[1;33m(\u001b[0m\u001b[1;34m'Run! {self.name} RUN!'\u001b[0m\u001b[1;33m)\u001b[0m\u001b[1;33m\u001b[0m\u001b[1;33m\u001b[0m\u001b[0m\n\u001b[0;32m      8\u001b[0m \u001b[1;33m\u001b[0m\u001b[0m\n\u001b[1;32m----> 9\u001b[1;33m \u001b[0mplayer1\u001b[0m \u001b[1;33m=\u001b[0m \u001b[0mPlayerChar\u001b[0m\u001b[1;33m(\u001b[0m\u001b[1;33m)\u001b[0m\u001b[1;33m\u001b[0m\u001b[1;33m\u001b[0m\u001b[0m\n\u001b[0m\u001b[0;32m     10\u001b[0m \u001b[0mprint\u001b[0m\u001b[1;33m(\u001b[0m\u001b[0mplayer1\u001b[0m\u001b[1;33m.\u001b[0m\u001b[0mname\u001b[0m\u001b[1;33m)\u001b[0m\u001b[1;33m\u001b[0m\u001b[1;33m\u001b[0m\u001b[0m\n\u001b[0;32m     11\u001b[0m \u001b[0mplayer1\u001b[0m\u001b[1;33m.\u001b[0m\u001b[0mrun\u001b[0m\u001b[1;33m(\u001b[0m\u001b[1;33m)\u001b[0m\u001b[1;33m\u001b[0m\u001b[1;33m\u001b[0m\u001b[0m\n",
      "\u001b[1;31mTypeError\u001b[0m: __init__() missing 1 required positional argument: 'name'"
     ]
    }
   ],
   "source": [
    "class PlayerChar:\n",
    "    def __init__ (self,name):\n",
    "        self.name = name\n",
    "    \n",
    "    \n",
    "    def run (self):\n",
    "        print('Run! {self.name} RUN!')\n",
    "\n",
    "player1 = PlayerChar()        \n",
    "print(player1.name)\n",
    "player1.run()"
   ]
  },
  {
   "cell_type": "code",
   "execution_count": 3,
   "metadata": {},
   "outputs": [
    {
     "name": "stdout",
     "output_type": "stream",
     "text": [
      "Ananya\n",
      "Run! {self.name} RUN!\n"
     ]
    }
   ],
   "source": [
    "class PlayerChar:\n",
    "    def __init__ (self,name):\n",
    "        self.name = name\n",
    "    \n",
    "    \n",
    "    def run (self):\n",
    "        print('Run! {self.name} RUN!')\n",
    "\n",
    "player1 = PlayerChar('Ananya')        \n",
    "print(player1.name)\n",
    "player1.run()"
   ]
  },
  {
   "cell_type": "code",
   "execution_count": 4,
   "metadata": {},
   "outputs": [
    {
     "ename": "TypeError",
     "evalue": "__init__() missing 1 required positional argument: 'name'",
     "output_type": "error",
     "traceback": [
      "\u001b[1;31m---------------------------------------------------------------------------\u001b[0m",
      "\u001b[1;31mTypeError\u001b[0m                                 Traceback (most recent call last)",
      "\u001b[1;32m<ipython-input-4-cc73f84d81a1>\u001b[0m in \u001b[0;36m<module>\u001b[1;34m\u001b[0m\n\u001b[0;32m      7\u001b[0m         \u001b[0mprint\u001b[0m\u001b[1;33m(\u001b[0m\u001b[1;34mf'Run! {self.name} RUN!'\u001b[0m\u001b[1;33m)\u001b[0m\u001b[1;33m\u001b[0m\u001b[1;33m\u001b[0m\u001b[0m\n\u001b[0;32m      8\u001b[0m \u001b[1;33m\u001b[0m\u001b[0m\n\u001b[1;32m----> 9\u001b[1;33m \u001b[0mplayer1\u001b[0m \u001b[1;33m=\u001b[0m \u001b[0mPlayerChar\u001b[0m\u001b[1;33m(\u001b[0m\u001b[1;33m)\u001b[0m\u001b[1;33m\u001b[0m\u001b[1;33m\u001b[0m\u001b[0m\n\u001b[0m\u001b[0;32m     10\u001b[0m \u001b[0mprint\u001b[0m\u001b[1;33m(\u001b[0m\u001b[0mplayer1\u001b[0m\u001b[1;33m.\u001b[0m\u001b[0mname\u001b[0m\u001b[1;33m)\u001b[0m\u001b[1;33m\u001b[0m\u001b[1;33m\u001b[0m\u001b[0m\n\u001b[0;32m     11\u001b[0m \u001b[0mplayer1\u001b[0m\u001b[1;33m.\u001b[0m\u001b[0mrun\u001b[0m\u001b[1;33m(\u001b[0m\u001b[1;33m)\u001b[0m\u001b[1;33m\u001b[0m\u001b[1;33m\u001b[0m\u001b[0m\n",
      "\u001b[1;31mTypeError\u001b[0m: __init__() missing 1 required positional argument: 'name'"
     ]
    }
   ],
   "source": [
    "class PlayerChar:\n",
    "    def __init__ (self,name):\n",
    "        self.name = name\n",
    "    \n",
    "    \n",
    "    def run (self):\n",
    "        print(f'Run! {self.name} RUN!')\n",
    "\n",
    "player1 = PlayerChar()        \n",
    "print(player1.name)\n",
    "player1.run()"
   ]
  },
  {
   "cell_type": "code",
   "execution_count": 5,
   "metadata": {},
   "outputs": [
    {
     "ename": "TypeError",
     "evalue": "__init__() missing 1 required positional argument: 'name'",
     "output_type": "error",
     "traceback": [
      "\u001b[1;31m---------------------------------------------------------------------------\u001b[0m",
      "\u001b[1;31mTypeError\u001b[0m                                 Traceback (most recent call last)",
      "\u001b[1;32m<ipython-input-5-35dba4f9c1e0>\u001b[0m in \u001b[0;36m<module>\u001b[1;34m\u001b[0m\n\u001b[0;32m      7\u001b[0m         \u001b[0mprint\u001b[0m\u001b[1;33m(\u001b[0m\u001b[1;34m'Run! {} RUN!'\u001b[0m\u001b[1;33m.\u001b[0m\u001b[0mformat\u001b[0m\u001b[1;33m(\u001b[0m\u001b[0mself\u001b[0m\u001b[1;33m.\u001b[0m\u001b[0mname\u001b[0m\u001b[1;33m)\u001b[0m\u001b[1;33m)\u001b[0m\u001b[1;33m\u001b[0m\u001b[1;33m\u001b[0m\u001b[0m\n\u001b[0;32m      8\u001b[0m \u001b[1;33m\u001b[0m\u001b[0m\n\u001b[1;32m----> 9\u001b[1;33m \u001b[0mplayer1\u001b[0m \u001b[1;33m=\u001b[0m \u001b[0mPlayerChar\u001b[0m\u001b[1;33m(\u001b[0m\u001b[1;33m)\u001b[0m\u001b[1;33m\u001b[0m\u001b[1;33m\u001b[0m\u001b[0m\n\u001b[0m\u001b[0;32m     10\u001b[0m \u001b[0mprint\u001b[0m\u001b[1;33m(\u001b[0m\u001b[0mplayer1\u001b[0m\u001b[1;33m.\u001b[0m\u001b[0mname\u001b[0m\u001b[1;33m)\u001b[0m\u001b[1;33m\u001b[0m\u001b[1;33m\u001b[0m\u001b[0m\n\u001b[0;32m     11\u001b[0m \u001b[0mplayer1\u001b[0m\u001b[1;33m.\u001b[0m\u001b[0mrun\u001b[0m\u001b[1;33m(\u001b[0m\u001b[1;33m)\u001b[0m\u001b[1;33m\u001b[0m\u001b[1;33m\u001b[0m\u001b[0m\n",
      "\u001b[1;31mTypeError\u001b[0m: __init__() missing 1 required positional argument: 'name'"
     ]
    }
   ],
   "source": [
    "class PlayerChar:\n",
    "    def __init__ (self,name):\n",
    "        self.name = name\n",
    "    \n",
    "    \n",
    "    def run (self):\n",
    "        print('Run! {} RUN!'.format(self.name))\n",
    "\n",
    "player1 = PlayerChar()        \n",
    "print(player1.name)\n",
    "player1.run()"
   ]
  },
  {
   "cell_type": "code",
   "execution_count": 6,
   "metadata": {},
   "outputs": [
    {
     "name": "stdout",
     "output_type": "stream",
     "text": [
      "Ananya\n",
      "Run! Ananya RUN!\n"
     ]
    }
   ],
   "source": [
    "class PlayerChar:\n",
    "    def __init__ (self,name):\n",
    "        self.name = name\n",
    "    \n",
    "    \n",
    "    def run (self):\n",
    "        print(f'Run! {self.name} RUN!')\n",
    "\n",
    "player1 = PlayerChar('Ananya')        \n",
    "print(player1.name)\n",
    "player1.run()"
   ]
  },
  {
   "cell_type": "code",
   "execution_count": null,
   "metadata": {},
   "outputs": [],
   "source": [
    "class SuperList():\n",
    "    def __init__(self,*initialvalue):\n",
    "        if(*initialvalue):\n",
    "            self._li = []\n",
    "        else:\n",
    "            self._li = list(initialvalue)\n",
    "    def __len__ (self):\n",
    "        return 1000\n",
    "    def __append__(self,obj):\n",
    "        self._li.append(obj)\n",
    "    def print_list(self):\n",
    "        print(self._li)\n",
    "super_list = SuperList(1,2,3)\n",
    "super_list.append(4)\n",
    "super_list.print_list()"
   ]
  },
  {
   "cell_type": "markdown",
   "metadata": {},
   "source": [
    "class SuperList():\n",
    "    def __init__(self,*initialvalue):\n",
    "        if(initialvalue): #{  Issue that I didn't evalated the initial value with NONE}\n",
    "            self._li = []\n",
    "        else:\n",
    "            self._li = list(initialvalue)\n",
    "    def __len__ (self):\n",
    "        return 1000\n",
    "    def append(self,obj):\n",
    "        self._li.append(obj)\n",
    "    def print_list(self):\n",
    "        print(self._li)\n",
    "super_list = SuperList(1,2,3)\n",
    "super_list.append(4)\n",
    "super_list.print_list()"
   ]
  },
  {
   "cell_type": "code",
   "execution_count": null,
   "metadata": {},
   "outputs": [],
   "source": [
    "class SuperList():\n",
    "    def __init__(self,*initialvalue):\n",
    "        if(initialvalue == None):  \n",
    "            self._li = []\n",
    "        else:\n",
    "            self._li = list(initialvalue)\n",
    "    def __len__ (self):\n",
    "        return 1000\n",
    "    def append(self,obj):\n",
    "        self._li.append(obj)\n",
    "    def print_list(self):\n",
    "        print(self._li)\n",
    "super_list = SuperList(1,2,3)\n",
    "super_list.append(4)\n",
    "super_list.print_list()"
   ]
  },
  {
   "cell_type": "code",
   "execution_count": 5,
   "metadata": {},
   "outputs": [
    {
     "name": "stdout",
     "output_type": "stream",
     "text": [
      "[1, 2, 3, 4]\n"
     ]
    }
   ],
   "source": [
    "\n",
    "\n",
    "class SuperList():\n",
    "    def __init__(self,*initialvalue):\n",
    "        if(initialvalue == None):\n",
    "            self._li = []\n",
    "        else:\n",
    "            self._li = list(initialvalue)\n",
    "    def __len__ (self):\n",
    "        return 1000\n",
    "    def append(self,obj):\n",
    "        self._li.append(obj)\n",
    "    def print_list(self):\n",
    "        print(self._li)\n",
    "super_list = SuperList(1,2,3)\n",
    "super_list.append(4)\n",
    "super_list.print_list()"
   ]
  },
  {
   "cell_type": "code",
   "execution_count": 11,
   "metadata": {},
   "outputs": [
    {
     "name": "stdout",
     "output_type": "stream",
     "text": [
      "[4]\n",
      "1000\n"
     ]
    }
   ],
   "source": [
    "'''\n",
    "Exercise: Inheriting list class to our SuperList class\n",
    "\n",
    "Modifying __len__ dunder to always return 1000\n",
    "\n",
    "'''\n",
    "\n",
    "class SuperList(list):\n",
    "          \n",
    "    def __len__ (self):\n",
    "        return 1000\n",
    "\n",
    "        \n",
    "        \n",
    "    \n",
    "super_list = SuperList()\n",
    "super_list.append(4)\n",
    "print(super_list)\n",
    "print(len(super_list))"
   ]
  },
  {
   "cell_type": "code",
   "execution_count": 13,
   "metadata": {},
   "outputs": [
    {
     "ename": "AttributeError",
     "evalue": "'str' object has no attribute 'append_list'",
     "output_type": "error",
     "traceback": [
      "\u001b[1;31m---------------------------------------------------------------------------\u001b[0m",
      "\u001b[1;31mAttributeError\u001b[0m                            Traceback (most recent call last)",
      "\u001b[1;32m<ipython-input-13-ee3d3a3abae7>\u001b[0m in \u001b[0;36m<module>\u001b[1;34m\u001b[0m\n\u001b[0;32m      8\u001b[0m     \u001b[1;32mreturn\u001b[0m \u001b[0mli\u001b[0m\u001b[1;33m\u001b[0m\u001b[1;33m\u001b[0m\u001b[0m\n\u001b[0;32m      9\u001b[0m \u001b[0mli\u001b[0m \u001b[1;33m=\u001b[0m\u001b[1;34m''\u001b[0m  \u001b[1;31m# since external components acn be modified we keep our functions away from external values/components\u001b[0m\u001b[1;33m\u001b[0m\u001b[1;33m\u001b[0m\u001b[0m\n\u001b[1;32m---> 10\u001b[1;33m \u001b[0mli\u001b[0m\u001b[1;33m.\u001b[0m\u001b[0mappend_list\u001b[0m\u001b[1;33m(\u001b[0m\u001b[0mval\u001b[0m\u001b[1;33m)\u001b[0m\u001b[1;33m\u001b[0m\u001b[1;33m\u001b[0m\u001b[0m\n\u001b[0m",
      "\u001b[1;31mAttributeError\u001b[0m: 'str' object has no attribute 'append_list'"
     ]
    }
   ],
   "source": [
    "'''\n",
    "Exercising Pure Functions\n",
    "'''\n",
    "li = []\n",
    "\n",
    "def append_list(val):\n",
    "    li.append(val) # here the the side effect occured as Function expected List but was provided string\n",
    "    return li\n",
    "li =''  # since external components acn be modified we keep our functions away from external values/components\n",
    "li.append_list(val)\n"
   ]
  },
  {
   "cell_type": "code",
   "execution_count": 14,
   "metadata": {},
   "outputs": [
    {
     "name": "stdout",
     "output_type": "stream",
     "text": [
      "[1, 4, 9, 16, 25]\n"
     ]
    }
   ],
   "source": [
    "'''\n",
    "Lambda Expression example\n",
    "'''\n",
    "my_list = [1,2,3,4,5]\n",
    "print(list(map(lambda item: item*item, my_list)))"
   ]
  },
  {
   "cell_type": "code",
   "execution_count": 15,
   "metadata": {},
   "outputs": [
    {
     "name": "stdout",
     "output_type": "stream",
     "text": [
      "[(10, -1), (0, 2), (4, 3), (9, 9)]\n"
     ]
    }
   ],
   "source": [
    "'''\n",
    "Returns the list sorted by second element in tuple\n",
    "that means in list a (10,-1) will be the first element\n",
    "'''\n",
    "a = [(0,2),(4,3),(9,9),(10,-1)]\n",
    "a.sort(key = lambda x: x[1])\n",
    "print(a)"
   ]
  },
  {
   "cell_type": "code",
   "execution_count": 16,
   "metadata": {},
   "outputs": [
    {
     "name": "stdout",
     "output_type": "stream",
     "text": [
      "['d', 'b']\n"
     ]
    }
   ],
   "source": [
    "'''\n",
    "Example of List Comprehension\n",
    "'''\n",
    "li = ['a','b','c','d','e','b','d']\n",
    "\n",
    "l = [num for num in set(li) if li.count(num)>1]\n",
    "\n",
    "        \n",
    "print(l)"
   ]
  },
  {
   "cell_type": "code",
   "execution_count": 7,
   "metadata": {},
   "outputs": [
    {
     "name": "stdout",
     "output_type": "stream",
     "text": [
      "[100001, 100002, 100003]\n",
      "0.06100177764892578 seconds\n"
     ]
    }
   ],
   "source": [
    "'''\n",
    "Decorator Example to check function performance\n",
    "'''\n",
    "from time import time\n",
    "def performance(fn):\n",
    "    def check_performance(*args,**kwargs):\n",
    "        t1 = time()\n",
    "        fn(*args,**kwargs)\n",
    "        t1 = time() -t1\n",
    "        print(f'{t1} seconds')\n",
    "    return check_performance\n",
    "        \n",
    "@performance\n",
    "def li_addition(li):\n",
    "    for i in range(100000):\n",
    "        for i in range(len(li)):\n",
    "            li[i] += 1\n",
    "    print(li)\n",
    "li_addition([1,2,3])"
   ]
  },
  {
   "cell_type": "code",
   "execution_count": 2,
   "metadata": {},
   "outputs": [
    {
     "name": "stdout",
     "output_type": "stream",
     "text": [
      "3\n",
      "3\n"
     ]
    }
   ],
   "source": [
    "'''\n",
    "Error Handling Example\n",
    "'''\n",
    "\n",
    "try:\n",
    "    age = int(input())\n",
    "    print(age)\n",
    "except:\n",
    "    print('please enter a number')"
   ]
  },
  {
   "cell_type": "code",
   "execution_count": 3,
   "metadata": {},
   "outputs": [
    {
     "name": "stdout",
     "output_type": "stream",
     "text": [
      "anbs\n",
      "please enter a number\n"
     ]
    }
   ],
   "source": [
    "'''\n",
    "Error Handling Example\n",
    "'''\n",
    "\n",
    "try:\n",
    "    age = int(input())\n",
    "    print(age)\n",
    "except:\n",
    "    print('please enter a number')"
   ]
  },
  {
   "cell_type": "code",
   "execution_count": 4,
   "metadata": {},
   "outputs": [
    {
     "ename": "NameError",
     "evalue": "name 'true' is not defined",
     "output_type": "error",
     "traceback": [
      "\u001b[1;31m---------------------------------------------------------------------------\u001b[0m",
      "\u001b[1;31mNameError\u001b[0m                                 Traceback (most recent call last)",
      "\u001b[1;32m<ipython-input-4-2f6b0d87f31d>\u001b[0m in \u001b[0;36m<module>\u001b[1;34m\u001b[0m\n\u001b[0;32m      2\u001b[0m \u001b[0mError\u001b[0m \u001b[0mHandling\u001b[0m \u001b[0mExample\u001b[0m\u001b[1;33m\u001b[0m\u001b[1;33m\u001b[0m\u001b[0m\n\u001b[0;32m      3\u001b[0m '''\n\u001b[1;32m----> 4\u001b[1;33m \u001b[1;32mwhile\u001b[0m \u001b[0mtrue\u001b[0m\u001b[1;33m:\u001b[0m\u001b[1;33m\u001b[0m\u001b[1;33m\u001b[0m\u001b[0m\n\u001b[0m\u001b[0;32m      5\u001b[0m     \u001b[1;32mtry\u001b[0m\u001b[1;33m:\u001b[0m\u001b[1;33m\u001b[0m\u001b[1;33m\u001b[0m\u001b[0m\n\u001b[0;32m      6\u001b[0m         \u001b[0mage\u001b[0m \u001b[1;33m=\u001b[0m \u001b[0mint\u001b[0m\u001b[1;33m(\u001b[0m\u001b[0minput\u001b[0m\u001b[1;33m(\u001b[0m\u001b[1;33m)\u001b[0m\u001b[1;33m)\u001b[0m\u001b[1;33m\u001b[0m\u001b[1;33m\u001b[0m\u001b[0m\n",
      "\u001b[1;31mNameError\u001b[0m: name 'true' is not defined"
     ]
    }
   ],
   "source": [
    "'''\n",
    "Error Handling Example\n",
    "'''\n",
    "while true:\n",
    "    try:\n",
    "        age = int(input())\n",
    "        print(age)\n",
    "    except ValueError:\n",
    "        print('please enter a number')\n",
    "    except ZeroDivisionError:\n",
    "        print('Please enter ')\n",
    "    else:\n",
    "        print('age submitted')\n",
    "        break"
   ]
  },
  {
   "cell_type": "code",
   "execution_count": 6,
   "metadata": {},
   "outputs": [
    {
     "name": "stdout",
     "output_type": "stream",
     "text": [
      "0\n",
      "Please enter \n",
      "89\n",
      "0.11235955056179775\n",
      "age submitted\n"
     ]
    }
   ],
   "source": [
    "'''\n",
    "Error Handling Example\n",
    "'''\n",
    "while True:\n",
    "    try:\n",
    "        age = int(input())\n",
    "        print(10/age)\n",
    "    except ValueError:\n",
    "        print('please enter a number')\n",
    "    except ZeroDivisionError:\n",
    "        print('Please enter ')\n",
    "    else:\n",
    "        print('age submitted')\n",
    "        break"
   ]
  },
  {
   "cell_type": "code",
   "execution_count": 10,
   "metadata": {},
   "outputs": [
    {
     "name": "stdout",
     "output_type": "stream",
     "text": [
      "Enter Numbers ::: \n",
      "None\n"
     ]
    }
   ],
   "source": [
    "'''\n",
    "Error Handling Example \n",
    "'''\n",
    "\n",
    "def summ(num1,num2):\n",
    "    try:\n",
    "        return num1 + num2\n",
    "    except TypeError:\n",
    "        try:\n",
    "            return int(num1) + int(num2)\n",
    "        except ValueError:\n",
    "            print('Enter Numbers ::: ')\n",
    "    else:\n",
    "        print('Done with Processing')\n",
    "print(summ(1,'and'))        \n",
    "\n",
    "        \n",
    "        "
   ]
  },
  {
   "cell_type": "code",
   "execution_count": null,
   "metadata": {},
   "outputs": [],
   "source": [
    "'''\n",
    "Fibonacci Sequence\n",
    "'''\n",
    "from time import time\n",
    "\n",
    "def fibo(number):\n",
    "    t1 = time()\n",
    "    li = [0,1]\n",
    "    for i in range(0,number-2):\n",
    "        x = li[i+1]+li[i]\n",
    "        li.append(x)\n",
    "    print(time()-t1)\n",
    "    return li\n",
    "y=fibo(1000000)\n",
    "print(' '.join(str(e) for e in y))\n",
    "        "
   ]
  },
  {
   "cell_type": "code",
   "execution_count": 13,
   "metadata": {},
   "outputs": [
    {
     "name": "stdout",
     "output_type": "stream",
     "text": [
      "0\n",
      "1\n",
      "1\n",
      "2\n",
      "3\n"
     ]
    }
   ],
   "source": [
    "'''\n",
    "Fibonacci Sequence generator (Creating function that works like range but returns Fibbonacci Sequence)\n",
    "'''\n",
    "\n",
    "class FiboGen():\n",
    "    index = 0\n",
    "    first = 0\n",
    "    second = 1\n",
    "    def __init__(self,num):\n",
    "        self.counter = num\n",
    "        \n",
    "        \n",
    "    def __iter__(self):\n",
    "        return self\n",
    "    \n",
    "    \n",
    "    def __next__(self):\n",
    "        if(FiboGen.index < self.counter):\n",
    "            if (FiboGen.index == 0):\n",
    "                FiboGen.index +=1\n",
    "                return FiboGen.first\n",
    "            if (FiboGen.index  == 1):\n",
    "                FiboGen.index +=1\n",
    "                return FiboGen.second\n",
    "            num = FiboGen.first + FiboGen.second\n",
    "            FiboGen.first = FiboGen.second\n",
    "            FiboGen.second = num\n",
    "            FiboGen.index +=1\n",
    "            return num\n",
    "        raise StopIteration\n",
    "    \n",
    "    \n",
    "f = FiboGen(5)\n",
    "\n",
    "for i in f:\n",
    "    print(i)"
   ]
  },
  {
   "cell_type": "code",
   "execution_count": 15,
   "metadata": {},
   "outputs": [
    {
     "name": "stdout",
     "output_type": "stream",
     "text": [
      "0\n",
      "1\n",
      "1\n",
      "2\n",
      "3\n"
     ]
    }
   ],
   "source": [
    "'''\n",
    "Produce Fibonacci Series of specified length with help of generator methods\n",
    "'''\n",
    "def fib(number):\n",
    "    a=0\n",
    "    b=1\n",
    "    for i in range(number):\n",
    "        yield a\n",
    "        temp = a\n",
    "        a = b\n",
    "        b = temp + b\n",
    "for x in fib(5):\n",
    "    print(x)"
   ]
  },
  {
   "cell_type": "code",
   "execution_count": 1,
   "metadata": {},
   "outputs": [
    {
     "data": {
      "image/png": "[encoded data removed]",
      "text/plain": [
       "<Figure size 432x288 with 1 Axes>"
      ]
     },
     "metadata": {
      "needs_background": "light"
     },
     "output_type": "display_data"
    }
   ],
   "source": [
    "import matplotlib.pyplot as plt\n",
    "fig = plt.figure()\n",
    "ax = fig.add_axes([0,0,1,1])\n",
    "langs = ['C', 'C++', 'Java', 'Python', 'PHP']\n",
    "students = [23,17,35,29,12]\n",
    "ax.bar(langs,students)\n",
    "plt.show()"
   ]
  },
  {
   "cell_type": "code",
   "execution_count": 8,
   "metadata": {},
   "outputs": [
    {
     "data": {
      "image/png": "[encoded data removed]",
      "text/plain": [
       "<Figure size 432x288 with 1 Axes>"
      ]
     },
     "metadata": {
      "needs_background": "light"
     },
     "output_type": "display_data"
    }
   ],
   "source": [
    "from collections import Counter\n",
    "import matplotlib.pyplot as plt\n",
    "plt.bar([x-4 for x in histogram.keys()],[y for y in histogram.values()],8)\n",
    "grades=[83,95,91,87,70,0,85,100,67,73,77,0]\n",
    "histogram = Counter(grade//10*10 for grade in grades)\n",
    "plt.axis([-5,105,0,5])\n",
    "plt.xticks([10 * i for i in range(10)])\n",
    "plt.xlabel(\"decile\")\n",
    "plt.ylabel(\"# of students\")\n",
    "plt.title(\"Distribution Exam 1 Grades\")\n",
    "plt.show()"
   ]
  },
  {
   "cell_type": "code",
   "execution_count": 5,
   "metadata": {},
   "outputs": [
    {
     "name": "stdout",
     "output_type": "stream",
     "text": [
      "[76, 86, 66, -4, 96, 56]\n"
     ]
    }
   ],
   "source": [
    "li = [x-4 for x in histogram.keys()]\n",
    "print(li)"
   ]
  },
  {
   "cell_type": "code",
   "execution_count": 6,
   "metadata": {},
   "outputs": [
    {
     "name": "stdout",
     "output_type": "stream",
     "text": [
      "dict_values([3, 2, 3, 2, 1, 1])\n"
     ]
    }
   ],
   "source": [
    "print(histogram.values())"
   ]
  },
  {
   "cell_type": "code",
   "execution_count": 2,
   "metadata": {},
   "outputs": [
    {
     "data": {
      "image/png": "[encoded data removed]",
      "text/plain": [
       "<Figure size 432x288 with 1 Axes>"
      ]
     },
     "metadata": {
      "needs_background": "light"
     },
     "output_type": "display_data"
    }
   ],
   "source": [
    "\n",
    "import matplotlib.pyplot as plt\n",
    "friends=[70 ,65 ,72 ,63 ,71 ,64 ,60 ,64 ,67]\n",
    "minutes=[175,170,205,120,220,130,105,145,190]\n",
    "labels= ['a','b','c','d','e','f','g','h','i']\n",
    "plt.scatter(friends,minutes)\n",
    "\n",
    "for label, friend_count,minute_count in zip(labels,friends,minutes):\n",
    "    plt.annotate(label,\n",
    "                xy=(friend_count , minute_count),\n",
    "                xytext=(5, -5),\n",
    "                 textcoords='offset points')\n",
    "\n",
    "plt.title(\"daily minutes  vs. no of freinds\")\n",
    "plt.xlabel(\"# of frineds\")\n",
    "plt.ylabel(\"daily minutes spent on the site\")\n",
    "plt.show()"
   ]
  },
  {
   "cell_type": "code",
   "execution_count": 1,
   "metadata": {},
   "outputs": [
    {
     "ename": "ValueError",
     "evalue": "too many values to unpack (expected 2)",
     "output_type": "error",
     "traceback": [
      "\u001b[1;31m---------------------------------------------------------------------------\u001b[0m",
      "\u001b[1;31mValueError\u001b[0m                                Traceback (most recent call last)",
      "\u001b[1;32m<ipython-input-1-7992fc055995>\u001b[0m in \u001b[0;36m<module>\u001b[1;34m\u001b[0m\n\u001b[0;32m      6\u001b[0m \u001b[1;33m\u001b[0m\u001b[0m\n\u001b[0;32m      7\u001b[0m \u001b[1;33m\u001b[0m\u001b[0m\n\u001b[1;32m----> 8\u001b[1;33m \u001b[0mplt\u001b[0m\u001b[1;33m.\u001b[0m\u001b[0mannotate\u001b[0m\u001b[1;33m(\u001b[0m\u001b[0mlabels\u001b[0m\u001b[1;33m,\u001b[0m\u001b[0mfriends\u001b[0m\u001b[1;33m,\u001b[0m\u001b[0mminutes\u001b[0m\u001b[1;33m)\u001b[0m\u001b[1;33m\u001b[0m\u001b[1;33m\u001b[0m\u001b[0m\n\u001b[0m\u001b[0;32m      9\u001b[0m \u001b[1;33m\u001b[0m\u001b[0m\n\u001b[0;32m     10\u001b[0m \u001b[0mplt\u001b[0m\u001b[1;33m.\u001b[0m\u001b[0mtitle\u001b[0m\u001b[1;33m(\u001b[0m\u001b[1;34m\"daily minutes  vs. no of freinds\"\u001b[0m\u001b[1;33m)\u001b[0m\u001b[1;33m\u001b[0m\u001b[1;33m\u001b[0m\u001b[0m\n",
      "\u001b[1;32mF:\\Anaconda3\\lib\\site-packages\\matplotlib\\pyplot.py\u001b[0m in \u001b[0;36mannotate\u001b[1;34m(s, xy, *args, **kwargs)\u001b[0m\n\u001b[0;32m   2355\u001b[0m \u001b[1;33m@\u001b[0m\u001b[0mdocstring\u001b[0m\u001b[1;33m.\u001b[0m\u001b[0mcopy\u001b[0m\u001b[1;33m(\u001b[0m\u001b[0mAxes\u001b[0m\u001b[1;33m.\u001b[0m\u001b[0mannotate\u001b[0m\u001b[1;33m)\u001b[0m\u001b[1;33m\u001b[0m\u001b[1;33m\u001b[0m\u001b[0m\n\u001b[0;32m   2356\u001b[0m \u001b[1;32mdef\u001b[0m \u001b[0mannotate\u001b[0m\u001b[1;33m(\u001b[0m\u001b[0ms\u001b[0m\u001b[1;33m,\u001b[0m \u001b[0mxy\u001b[0m\u001b[1;33m,\u001b[0m \u001b[1;33m*\u001b[0m\u001b[0margs\u001b[0m\u001b[1;33m,\u001b[0m \u001b[1;33m**\u001b[0m\u001b[0mkwargs\u001b[0m\u001b[1;33m)\u001b[0m\u001b[1;33m:\u001b[0m\u001b[1;33m\u001b[0m\u001b[1;33m\u001b[0m\u001b[0m\n\u001b[1;32m-> 2357\u001b[1;33m     \u001b[1;32mreturn\u001b[0m \u001b[0mgca\u001b[0m\u001b[1;33m(\u001b[0m\u001b[1;33m)\u001b[0m\u001b[1;33m.\u001b[0m\u001b[0mannotate\u001b[0m\u001b[1;33m(\u001b[0m\u001b[0ms\u001b[0m\u001b[1;33m,\u001b[0m \u001b[0mxy\u001b[0m\u001b[1;33m,\u001b[0m \u001b[1;33m*\u001b[0m\u001b[0margs\u001b[0m\u001b[1;33m,\u001b[0m \u001b[1;33m**\u001b[0m\u001b[0mkwargs\u001b[0m\u001b[1;33m)\u001b[0m\u001b[1;33m\u001b[0m\u001b[1;33m\u001b[0m\u001b[0m\n\u001b[0m\u001b[0;32m   2358\u001b[0m \u001b[1;33m\u001b[0m\u001b[0m\n\u001b[0;32m   2359\u001b[0m \u001b[1;33m\u001b[0m\u001b[0m\n",
      "\u001b[1;32mF:\\Anaconda3\\lib\\site-packages\\matplotlib\\axes\\_axes.py\u001b[0m in \u001b[0;36mannotate\u001b[1;34m(self, s, xy, *args, **kwargs)\u001b[0m\n\u001b[0;32m    776\u001b[0m     \u001b[1;33m@\u001b[0m\u001b[0mdocstring\u001b[0m\u001b[1;33m.\u001b[0m\u001b[0mdedent_interpd\u001b[0m\u001b[1;33m\u001b[0m\u001b[1;33m\u001b[0m\u001b[0m\n\u001b[0;32m    777\u001b[0m     \u001b[1;32mdef\u001b[0m \u001b[0mannotate\u001b[0m\u001b[1;33m(\u001b[0m\u001b[0mself\u001b[0m\u001b[1;33m,\u001b[0m \u001b[0ms\u001b[0m\u001b[1;33m,\u001b[0m \u001b[0mxy\u001b[0m\u001b[1;33m,\u001b[0m \u001b[1;33m*\u001b[0m\u001b[0margs\u001b[0m\u001b[1;33m,\u001b[0m \u001b[1;33m**\u001b[0m\u001b[0mkwargs\u001b[0m\u001b[1;33m)\u001b[0m\u001b[1;33m:\u001b[0m\u001b[1;33m\u001b[0m\u001b[1;33m\u001b[0m\u001b[0m\n\u001b[1;32m--> 778\u001b[1;33m         \u001b[0ma\u001b[0m \u001b[1;33m=\u001b[0m \u001b[0mmtext\u001b[0m\u001b[1;33m.\u001b[0m\u001b[0mAnnotation\u001b[0m\u001b[1;33m(\u001b[0m\u001b[0ms\u001b[0m\u001b[1;33m,\u001b[0m \u001b[0mxy\u001b[0m\u001b[1;33m,\u001b[0m \u001b[1;33m*\u001b[0m\u001b[0margs\u001b[0m\u001b[1;33m,\u001b[0m \u001b[1;33m**\u001b[0m\u001b[0mkwargs\u001b[0m\u001b[1;33m)\u001b[0m\u001b[1;33m\u001b[0m\u001b[1;33m\u001b[0m\u001b[0m\n\u001b[0m\u001b[0;32m    779\u001b[0m         \u001b[0ma\u001b[0m\u001b[1;33m.\u001b[0m\u001b[0mset_transform\u001b[0m\u001b[1;33m(\u001b[0m\u001b[0mmtransforms\u001b[0m\u001b[1;33m.\u001b[0m\u001b[0mIdentityTransform\u001b[0m\u001b[1;33m(\u001b[0m\u001b[1;33m)\u001b[0m\u001b[1;33m)\u001b[0m\u001b[1;33m\u001b[0m\u001b[1;33m\u001b[0m\u001b[0m\n\u001b[0;32m    780\u001b[0m         \u001b[1;32mif\u001b[0m \u001b[1;34m'clip_on'\u001b[0m \u001b[1;32min\u001b[0m \u001b[0mkwargs\u001b[0m\u001b[1;33m:\u001b[0m\u001b[1;33m\u001b[0m\u001b[1;33m\u001b[0m\u001b[0m\n",
      "\u001b[1;32mF:\\Anaconda3\\lib\\site-packages\\matplotlib\\cbook\\deprecation.py\u001b[0m in \u001b[0;36mwrapper\u001b[1;34m(*args, **kwargs)\u001b[0m\n\u001b[0;32m    294\u001b[0m                 f\"for the old name will be dropped %(removal)s.\")\n\u001b[0;32m    295\u001b[0m             \u001b[0mkwargs\u001b[0m\u001b[1;33m[\u001b[0m\u001b[0mnew\u001b[0m\u001b[1;33m]\u001b[0m \u001b[1;33m=\u001b[0m \u001b[0mkwargs\u001b[0m\u001b[1;33m.\u001b[0m\u001b[0mpop\u001b[0m\u001b[1;33m(\u001b[0m\u001b[0mold\u001b[0m\u001b[1;33m)\u001b[0m\u001b[1;33m\u001b[0m\u001b[1;33m\u001b[0m\u001b[0m\n\u001b[1;32m--> 296\u001b[1;33m         \u001b[1;32mreturn\u001b[0m \u001b[0mfunc\u001b[0m\u001b[1;33m(\u001b[0m\u001b[1;33m*\u001b[0m\u001b[0margs\u001b[0m\u001b[1;33m,\u001b[0m \u001b[1;33m**\u001b[0m\u001b[0mkwargs\u001b[0m\u001b[1;33m)\u001b[0m\u001b[1;33m\u001b[0m\u001b[1;33m\u001b[0m\u001b[0m\n\u001b[0m\u001b[0;32m    297\u001b[0m \u001b[1;33m\u001b[0m\u001b[0m\n\u001b[0;32m    298\u001b[0m     \u001b[1;31m# wrapper() must keep the same documented signature as func(): if we\u001b[0m\u001b[1;33m\u001b[0m\u001b[1;33m\u001b[0m\u001b[1;33m\u001b[0m\u001b[0m\n",
      "\u001b[1;32mF:\\Anaconda3\\lib\\site-packages\\matplotlib\\text.py\u001b[0m in \u001b[0;36m__init__\u001b[1;34m(self, text, xy, xytext, xycoords, textcoords, arrowprops, annotation_clip, **kwargs)\u001b[0m\n\u001b[0;32m   2164\u001b[0m         \u001b[1;32mif\u001b[0m \u001b[0mxytext\u001b[0m \u001b[1;32mis\u001b[0m \u001b[1;32mNone\u001b[0m\u001b[1;33m:\u001b[0m\u001b[1;33m\u001b[0m\u001b[1;33m\u001b[0m\u001b[0m\n\u001b[0;32m   2165\u001b[0m             \u001b[0mxytext\u001b[0m \u001b[1;33m=\u001b[0m \u001b[0mself\u001b[0m\u001b[1;33m.\u001b[0m\u001b[0mxy\u001b[0m\u001b[1;33m\u001b[0m\u001b[1;33m\u001b[0m\u001b[0m\n\u001b[1;32m-> 2166\u001b[1;33m         \u001b[0mx\u001b[0m\u001b[1;33m,\u001b[0m \u001b[0my\u001b[0m \u001b[1;33m=\u001b[0m \u001b[0mxytext\u001b[0m\u001b[1;33m\u001b[0m\u001b[1;33m\u001b[0m\u001b[0m\n\u001b[0m\u001b[0;32m   2167\u001b[0m \u001b[1;33m\u001b[0m\u001b[0m\n\u001b[0;32m   2168\u001b[0m         \u001b[0mText\u001b[0m\u001b[1;33m.\u001b[0m\u001b[0m__init__\u001b[0m\u001b[1;33m(\u001b[0m\u001b[0mself\u001b[0m\u001b[1;33m,\u001b[0m \u001b[0mx\u001b[0m\u001b[1;33m,\u001b[0m \u001b[0my\u001b[0m\u001b[1;33m,\u001b[0m \u001b[0mtext\u001b[0m\u001b[1;33m,\u001b[0m \u001b[1;33m**\u001b[0m\u001b[0mkwargs\u001b[0m\u001b[1;33m)\u001b[0m\u001b[1;33m\u001b[0m\u001b[1;33m\u001b[0m\u001b[0m\n",
      "\u001b[1;31mValueError\u001b[0m: too many values to unpack (expected 2)"
     ]
    },
    {
     "data": {
      "image/png": "[encoded data removed]",
      "text/plain": [
       "<Figure size 432x288 with 1 Axes>"
      ]
     },
     "metadata": {
      "needs_background": "light"
     },
     "output_type": "display_data"
    }
   ],
   "source": []
  },
  {
   "cell_type": "code",
   "execution_count": null,
   "metadata": {},
   "outputs": [],
   "source": []
  }
 ],
 "metadata": {
  "kernelspec": {
   "display_name": "Python 3",
   "language": "python",
   "name": "python3"
  },
  "language_info": {
   "codemirror_mode": {
    "name": "ipython",
    "version": 3
   },
   "file_extension": ".py",
   "mimetype": "text/x-python",
   "name": "python",
   "nbconvert_exporter": "python",
   "pygments_lexer": "ipython3",
   "version": "3.8.3"
  }
 },
 "nbformat": 4,
 "nbformat_minor": 4
}
